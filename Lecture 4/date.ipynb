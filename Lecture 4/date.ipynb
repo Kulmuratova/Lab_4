{
 "cells": [
  {
   "cell_type": "code",
   "execution_count": 14,
   "id": "040f8a4e-779e-4a77-8e37-200b7269a49f",
   "metadata": {},
   "outputs": [
    {
     "name": "stdout",
     "output_type": "stream",
     "text": [
      "2025-02-07 10:14:23.036230\n"
     ]
    }
   ],
   "source": [
    "import datetime\n",
    "x = datetime.datetime.now() - timedelta(5)\n",
    "print(x)"
   ]
  },
  {
   "cell_type": "code",
   "execution_count": 20,
   "id": "2a580ba9-2e55-40db-847c-22022cfe09c9",
   "metadata": {},
   "outputs": [
    {
     "name": "stdout",
     "output_type": "stream",
     "text": [
      "2025-02-11 10:27:17.728592\n",
      "2025-02-12 10:27:17.728530\n",
      "2025-02-13 10:27:17.728640\n"
     ]
    }
   ],
   "source": [
    "import datetime\n",
    "today = datetime.datetime.now()\n",
    "yesterday = datetime.datetime.now() - timedelta(1)\n",
    "tomorrow = datetime.datetime.now() + timedelta(1)\n",
    "print(yesterday)\n",
    "print(today)\n",
    "print()"
   ]
  },
  {
   "cell_type": "code",
   "execution_count": 18,
   "id": "19bc9439-7cd6-4098-9e68-fb0f012f5e40",
   "metadata": {},
   "outputs": [
    {
     "name": "stdout",
     "output_type": "stream",
     "text": [
      "2025-02-12 10:23:30\n"
     ]
    }
   ],
   "source": [
    "import datetime\n",
    "x = datetime.datetime.now().replace(microsecond = 0)\n",
    "print(x)"
   ]
  },
  {
   "cell_type": "code",
   "execution_count": 28,
   "id": "f1ce89a6-e8be-4a46-8ae0-5c067f5a49e7",
   "metadata": {},
   "outputs": [
    {
     "ename": "TypeError",
     "evalue": "unsupported operand type(s) for -: 'str' and 'str'",
     "output_type": "error",
     "traceback": [
      "\u001b[0;31m---------------------------------------------------------------------------\u001b[0m",
      "\u001b[0;31mTypeError\u001b[0m                                 Traceback (most recent call last)",
      "Cell \u001b[0;32mIn[28], line 6\u001b[0m\n\u001b[1;32m      4\u001b[0m s1 \u001b[38;5;241m=\u001b[39m x\u001b[38;5;241m.\u001b[39mstrftime(\u001b[38;5;124m\"\u001b[39m\u001b[38;5;124m%\u001b[39m\u001b[38;5;124mS\u001b[39m\u001b[38;5;124m\"\u001b[39m)\n\u001b[1;32m      5\u001b[0m s2 \u001b[38;5;241m=\u001b[39m y\u001b[38;5;241m.\u001b[39mstrftime(\u001b[38;5;124m\"\u001b[39m\u001b[38;5;124m%\u001b[39m\u001b[38;5;124mS\u001b[39m\u001b[38;5;124m\"\u001b[39m)\n\u001b[0;32m----> 6\u001b[0m \u001b[38;5;28mprint\u001b[39m(s1 \u001b[38;5;241m-\u001b[39m s2)\n",
      "\u001b[0;31mTypeError\u001b[0m: unsupported operand type(s) for -: 'str' and 'str'"
     ]
    }
   ],
   "source": [
    "import datetime\n",
    "x = datetime.datetime.now()\n",
    "y = datetime.datetime.now() - timedelta(1)\n",
    "s1 = x.strftime(\"%S\")\n",
    "s2 = y.strftime(\"%S\")\n",
    "print(s1 - s2)"
   ]
  },
  {
   "cell_type": "code",
   "execution_count": null,
   "id": "442c6ead-773f-422d-b2f9-ca19b3f86170",
   "metadata": {},
   "outputs": [],
   "source": []
  }
 ],
 "metadata": {
  "kernelspec": {
   "display_name": "Python [conda env:base] *",
   "language": "python",
   "name": "conda-base-py"
  },
  "language_info": {
   "codemirror_mode": {
    "name": "ipython",
    "version": 3
   },
   "file_extension": ".py",
   "mimetype": "text/x-python",
   "name": "python",
   "nbconvert_exporter": "python",
   "pygments_lexer": "ipython3",
   "version": "3.12.7"
  }
 },
 "nbformat": 4,
 "nbformat_minor": 5
}

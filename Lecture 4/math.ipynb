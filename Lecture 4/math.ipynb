{
 "cells": [
  {
   "cell_type": "code",
   "execution_count": 2,
   "id": "43b72994-477f-4dfe-aed2-5839260c35ca",
   "metadata": {},
   "outputs": [
    {
     "name": "stdin",
     "output_type": "stream",
     "text": [
      " 15\n"
     ]
    },
    {
     "name": "stdout",
     "output_type": "stream",
     "text": [
      "0.2617993877991494\n"
     ]
    }
   ],
   "source": [
    "import math\n",
    "def to_radian(num):\n",
    "    x = num * math.pi / 180\n",
    "    return x\n",
    "num = int(input())\n",
    "print(to_radian(num))"
   ]
  },
  {
   "cell_type": "code",
   "execution_count": 8,
   "id": "57351bc7-4721-4720-958e-f1063c7bfc88",
   "metadata": {},
   "outputs": [
    {
     "name": "stdin",
     "output_type": "stream",
     "text": [
      " 5\n",
      " 6\n",
      " 5\n"
     ]
    },
    {
     "name": "stdout",
     "output_type": "stream",
     "text": [
      "27.5\n"
     ]
    }
   ],
   "source": [
    "import math\n",
    "def find_area(base1, base2, height):\n",
    "    area = ((base1 + base2) / 2) * height\n",
    "    return area\n",
    "base1 = int(input())\n",
    "base2 = int(input())\n",
    "height = int(input())\n",
    "print(find_area(base1, base2, height))"
   ]
  },
  {
   "cell_type": "code",
   "execution_count": 12,
   "id": "2d44e893-8425-4f59-bd31-254eb7a12237",
   "metadata": {},
   "outputs": [
    {
     "name": "stdin",
     "output_type": "stream",
     "text": [
      " 4 \n",
      " 25\n"
     ]
    },
    {
     "name": "stdout",
     "output_type": "stream",
     "text": [
      "625\n"
     ]
    }
   ],
   "source": [
    "import math\n",
    "def area_penthagon(sides, length):\n",
    "    area = (sides * pow(length, 2))/ (4 * math.tan(math.pi/sides))\n",
    "    return area\n",
    "sides = int(input())\n",
    "length = int(input())\n",
    "print(int(area_penthagon(sides, length)))"
   ]
  },
  {
   "cell_type": "code",
   "execution_count": 14,
   "id": "3c1c21c3-2ef1-4399-aaf4-2d7bf641a52f",
   "metadata": {},
   "outputs": [
    {
     "name": "stdin",
     "output_type": "stream",
     "text": [
      " 5\n",
      " 6\n"
     ]
    },
    {
     "name": "stdout",
     "output_type": "stream",
     "text": [
      "30\n"
     ]
    }
   ],
   "source": [
    "import math\n",
    "def area_parall(length, height):\n",
    "    return (length * height)\n",
    "height = int(input())\n",
    "length = int(input())\n",
    "print(area_parall(length, height))"
   ]
  },
  {
   "cell_type": "code",
   "execution_count": null,
   "id": "ccdcc5fb-ceea-430a-992f-fd4c54e9197b",
   "metadata": {},
   "outputs": [],
   "source": []
  }
 ],
 "metadata": {
  "kernelspec": {
   "display_name": "Python [conda env:base] *",
   "language": "python",
   "name": "conda-base-py"
  },
  "language_info": {
   "codemirror_mode": {
    "name": "ipython",
    "version": 3
   },
   "file_extension": ".py",
   "mimetype": "text/x-python",
   "name": "python",
   "nbconvert_exporter": "python",
   "pygments_lexer": "ipython3",
   "version": "3.12.7"
  }
 },
 "nbformat": 4,
 "nbformat_minor": 5
}
